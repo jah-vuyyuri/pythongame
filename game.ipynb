import random
c=input("what is your name?")
print("Good luck!",c)
words = ['rainbow', 'computer', 'science', 'programming', 
		'python', 'mathematics', 'player', 'condition', 
		'reverse', 'water', 'board', 'geeks','seventh'] 
word=random.choice(words)
print("the word you are going to guess of length",len(word))
for i in range(len(word)):
  print('*')
no_of_attempts=15
j=len(word)
g=[]
q=True
for k in range(j):
  g.append('*')
while(q):
  d=""
  d=''.join(g)
  print(d)
  t=input("guess the letter: ")
  if(t in word):
    print("Yah congrats it is matched")
    r=word.index(t)
    word=word[0:r]+"*"+word[r+1:]
    g[r]=t
  else:
    print("sorry try again")
  print("no.of attempts remining are",no_of_attempts) 
  if('*' not in g):
    print(" ".join(g))
    print("congrats",c,"you won the game")
    q=False
  if(no_of_attempts<0):
      q=False
  no_of_attempts=no_of_attempts-1
      
